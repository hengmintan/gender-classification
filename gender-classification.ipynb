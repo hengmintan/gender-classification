{
 "cells": [
  {
   "cell_type": "code",
   "execution_count": 1,
   "id": "c771493d",
   "metadata": {},
   "outputs": [
    {
     "name": "stdout",
     "output_type": "stream",
     "text": [
      "Index(['_unit_id', '_golden', '_unit_state', '_trusted_judgments',\n",
      "       '_last_judgment_at', 'gender', 'gender:confidence', 'profile_yn',\n",
      "       'profile_yn:confidence', 'created', 'description', 'fav_number',\n",
      "       'gender_gold', 'link_color', 'name', 'profile_yn_gold', 'profileimage',\n",
      "       'retweet_count', 'sidebar_color', 'text', 'tweet_coord', 'tweet_count',\n",
      "       'tweet_created', 'tweet_id', 'tweet_location', 'user_timezone'],\n",
      "      dtype='object')\n"
     ]
    }
   ],
   "source": [
    "# load data\n",
    "import pandas as pd\n",
    "\n",
    "df = pd.read_csv(\"./gender-classifier-DFE-791531.csv\", encoding=\"latin1\")\n",
    "print(df.columns)\n"
   ]
  },
  {
   "cell_type": "code",
   "execution_count": 2,
   "id": "345be2ac",
   "metadata": {},
   "outputs": [
    {
     "name": "stdout",
     "output_type": "stream",
     "text": [
      "       gender                                        description  \\\n",
      "0        male                              i sing my own rhythm.   \n",
      "1        male  I'm the author of novels filled with family dr...   \n",
      "2        male                louis whining and squealing and all   \n",
      "3        male  Mobile guy.  49ers, Shazam, Google, Kleiner Pe...   \n",
      "4      female  Ricky Wilson The Best FRONTMAN/Kaiser Chiefs T...   \n",
      "...       ...                                                ...   \n",
      "20045  female                                               (rp)   \n",
      "20046    male  Whatever you like, it's not a problem at all. ...   \n",
      "20047    male  #TeamBarcelona ..You look lost so you should f...   \n",
      "20048  female  Anti-statist; I homeschool my kids. Aspiring t...   \n",
      "20049  female                     Teamwork makes the dream work.   \n",
      "\n",
      "                                                    text  \n",
      "0      Robbie E Responds To Critics After Win Against...  \n",
      "1      ÛÏIt felt like they were my friends and I was...  \n",
      "2      i absolutely adore when louis starts the songs...  \n",
      "3      Hi @JordanSpieth - Looking at the url - do you...  \n",
      "4      Watching Neighbours on Sky+ catching up with t...  \n",
      "...                                                  ...  \n",
      "20045  @lookupondeath ...Fine, and I'll drink tea too...  \n",
      "20046  Greg Hardy you a good player and all but don't...  \n",
      "20047  You can miss people and still never want to se...  \n",
      "20048  @bitemyapp i had noticed your tendency to pee ...  \n",
      "20049  I think for my APUSH creative project I'm goin...  \n",
      "\n",
      "[16224 rows x 3 columns]\n"
     ]
    }
   ],
   "source": [
    "# select relevant columns\n",
    "df = pd.concat([df.gender, df.description, df.text], axis = 1)\n",
    "\n",
    "# remove NaN values\n",
    "df.dropna(axis=0, inplace=True)\n",
    "\n",
    "# reduced dataset for testing purposes\n",
    "# df.drop(df.index[1000:], inplace=True)\n",
    "\n",
    "n, d = df.shape\n",
    "print(df)\n"
   ]
  },
  {
   "cell_type": "code",
   "execution_count": 3,
   "id": "a2eb21da",
   "metadata": {},
   "outputs": [],
   "source": [
    "# tokenize and return lemmatized message\n",
    "import spacy\n",
    "nlp = spacy.load(\"en_core_web_sm\")\n",
    "\n",
    "def tokenize_lemmatize(msg):\n",
    "    doc = nlp(msg)\n",
    "    tmp = []\n",
    "    for token in doc:\n",
    "        tmp.append(token.lemma_)\n",
    "    return \" \".join(tmp)\n"
   ]
  },
  {
   "cell_type": "code",
   "execution_count": 4,
   "id": "0437b375",
   "metadata": {},
   "outputs": [],
   "source": [
    "# tokenize and lemmatize\n",
    "for i in df.index:\n",
    "    df[\"description\"][i] = tokenize_lemmatize(df[\"description\"][i])\n",
    "    df[\"text\"][i] = tokenize_lemmatize(df[\"text\"][i])\n"
   ]
  },
  {
   "cell_type": "code",
   "execution_count": 6,
   "id": "488c2c8b",
   "metadata": {},
   "outputs": [
    {
     "name": "stdout",
     "output_type": "stream",
     "text": [
      "(16224, 275044)\n"
     ]
    }
   ],
   "source": [
    "# bag of words\n",
    "from sklearn.feature_extraction.text import TfidfVectorizer\n",
    "from sklearn.compose import make_column_transformer\n",
    "\n",
    "data = df[[\"description\", \"text\"]]\n",
    "\n",
    "vect = TfidfVectorizer(stop_words=\"english\", ngram_range=(1,2))\n",
    "transformer = make_column_transformer((vect, \"description\"), (vect, \"text\"))\n",
    "\n",
    "x = transformer.fit_transform(data).toarray()\n",
    "y = df[\"gender\"]\n",
    "\n",
    "print(x.shape)\n"
   ]
  },
  {
   "cell_type": "code",
   "execution_count": 7,
   "id": "76cb4c37",
   "metadata": {},
   "outputs": [
    {
     "name": "stdout",
     "output_type": "stream",
     "text": [
      "(14601, 275044)\n",
      "(1623, 275044)\n"
     ]
    }
   ],
   "source": [
    "# split for train and test\n",
    "from sklearn.model_selection import train_test_split\n",
    "\n",
    "x_train, x_test, y_train, y_test = train_test_split(x, y, test_size=0.1, random_state=42)\n",
    "\n",
    "print(x_train.shape)\n",
    "print(x_test.shape)\n"
   ]
  },
  {
   "cell_type": "code",
   "execution_count": 8,
   "id": "bcd350a9",
   "metadata": {
    "scrolled": true
   },
   "outputs": [],
   "source": [
    "# 3-fold cross validation\n",
    "# from sklearn.model_selection import cross_validate\n",
    "# from sklearn.naive_bayes import GaussianNB\n",
    "\n",
    "# gnb = GaussianNB()\n",
    "# scores = cross_validate(gnb, x_train, y_train, cv=3, scoring=[\"accuracy\", \"precision_weighted\", \"recall_weighted\"])\n"
   ]
  },
  {
   "cell_type": "code",
   "execution_count": 9,
   "id": "fb44ea01",
   "metadata": {},
   "outputs": [],
   "source": [
    "# 5-fold cross validation\n",
    "from sklearn.model_selection import cross_validate\n",
    "from sklearn.naive_bayes import GaussianNB\n",
    "\n",
    "gnb = GaussianNB()\n",
    "scores = cross_validate(gnb, x_train, y_train, scoring=[\"accuracy\", \"precision_weighted\", \"recall_weighted\"])\n"
   ]
  },
  {
   "cell_type": "code",
   "execution_count": 10,
   "id": "29283d9a",
   "metadata": {},
   "outputs": [
    {
     "name": "stdout",
     "output_type": "stream",
     "text": [
      "dict_keys(['fit_time', 'score_time', 'test_accuracy', 'test_precision_weighted', 'test_recall_weighted'])\n"
     ]
    }
   ],
   "source": [
    "print(scores.keys())\n"
   ]
  },
  {
   "cell_type": "code",
   "execution_count": 13,
   "id": "acb45b20",
   "metadata": {},
   "outputs": [
    {
     "name": "stdout",
     "output_type": "stream",
     "text": [
      "accuracy: [0.49982883 0.50616438 0.49452055 0.4869863  0.475     ]\n",
      "avg accuracy: 0.49250001172426405\n",
      "precision: [0.4929085  0.50046313 0.48690221 0.48090488 0.469231  ]\n",
      "avg precision: 0.48608194480877354\n",
      "recall: [0.49982883 0.50616438 0.49452055 0.4869863  0.475     ]\n",
      "avg recall: 0.49250001172426405\n"
     ]
    }
   ],
   "source": [
    "# print metrics\n",
    "acc = scores[\"test_accuracy\"]\n",
    "print(\"accuracy:\", acc)\n",
    "print(\"avg accuracy:\", sum(acc) / 5)\n",
    "prec = scores[\"test_precision_weighted\"]\n",
    "print(\"precision:\", prec)\n",
    "print(\"avg precision:\", sum(prec) / 5)\n",
    "rec = scores[\"test_recall_weighted\"]\n",
    "print(\"recall:\", rec)\n",
    "print(\"avg recall:\", sum(rec) / 5)\n"
   ]
  },
  {
   "cell_type": "code",
   "execution_count": 14,
   "id": "77463791",
   "metadata": {},
   "outputs": [],
   "source": [
    "# test model\n",
    "gnb.fit(x_train, y_train)\n",
    "y_pred = gnb.predict(x_test)\n"
   ]
  },
  {
   "cell_type": "code",
   "execution_count": 15,
   "id": "3cd32b1a",
   "metadata": {},
   "outputs": [],
   "source": [
    "# display metrics\n",
    "import matplotlib.pyplot as plt\n",
    "from sklearn import metrics\n",
    "\n",
    "# print the accuracy, f1, confusion matrix, precision, recall\n",
    "def display_metrics(y, y_pred):\n",
    "    lbl = [\"male\", \"female\", \"brand\"]\n",
    "    \n",
    "    print(\"accuracy:\", metrics.accuracy_score(y, y_pred))\n",
    "    prec_rec = metrics.precision_recall_fscore_support(y, y_pred, labels=lbl, average=\"weighted\")\n",
    "    print(\"precision:\", prec_rec[0])\n",
    "    print(\"recall:\", prec_rec[1])\n",
    "\n",
    "    metrics.ConfusionMatrixDisplay.from_predictions(y, y_pred, labels=lbl, normalize='true')\n",
    "    plt.show()\n"
   ]
  },
  {
   "cell_type": "code",
   "execution_count": 16,
   "id": "cd11464f",
   "metadata": {},
   "outputs": [
    {
     "name": "stdout",
     "output_type": "stream",
     "text": [
      "accuracy: 0.4849044978434997\n",
      "precision: 0.49307311620669075\n",
      "recall: 0.5091145833333334\n"
     ]
    },
    {
     "data": {
      "image/png": "[encoded data removed]",
      "text/plain": [
       "<Figure size 640x480 with 2 Axes>"
      ]
     },
     "metadata": {},
     "output_type": "display_data"
    }
   ],
   "source": [
    "# display metrics\n",
    "display_metrics(y_test, y_pred)\n"
   ]
  },
  {
   "cell_type": "code",
   "execution_count": null,
   "id": "b4bb0926",
   "metadata": {},
   "outputs": [],
   "source": []
  }
 ],
 "metadata": {
  "kernelspec": {
   "display_name": "Python 3 (ipykernel)",
   "language": "python",
   "name": "python3"
  },
  "language_info": {
   "codemirror_mode": {
    "name": "ipython",
    "version": 3
   },
   "file_extension": ".py",
   "mimetype": "text/x-python",
   "name": "python",
   "nbconvert_exporter": "python",
   "pygments_lexer": "ipython3",
   "version": "3.9.1"
  }
 },
 "nbformat": 4,
 "nbformat_minor": 5
}
